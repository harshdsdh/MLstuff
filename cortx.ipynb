{
  "nbformat": 4,
  "nbformat_minor": 0,
  "metadata": {
    "kernelspec": {
      "display_name": "Python 3",
      "language": "python",
      "name": "python3"
    },
    "language_info": {
      "codemirror_mode": {
        "name": "ipython",
        "version": 3
      },
      "file_extension": ".py",
      "mimetype": "text/x-python",
      "name": "python",
      "nbconvert_exporter": "python",
      "pygments_lexer": "ipython3",
      "version": "3.7.6"
    },
    "colab": {
      "name": "cortx.ipynb",
      "provenance": [],
      "include_colab_link": true
    }
  },
  "cells": [
    {
      "cell_type": "markdown",
      "metadata": {
        "id": "view-in-github",
        "colab_type": "text"
      },
      "source": [
        "<a href=\"https://colab.research.google.com/github/harshdsdh/MLstuff/blob/master/cortx.ipynb\" target=\"_parent\"><img src=\"https://colab.research.google.com/assets/colab-badge.svg\" alt=\"Open In Colab\"/></a>"
      ]
    },
    {
      "cell_type": "code",
      "metadata": {
        "id": "oR-HdKHgGny9",
        "colab_type": "code",
        "colab": {}
      },
      "source": [
        "s=\"{I am|I'm} {working on|starting} this {online |}interview. I hope Cortx thinks I am {{very|extremely} qualified|great|awesome}{!|.}\"\n"
      ],
      "execution_count": 0,
      "outputs": []
    },
    {
      "cell_type": "code",
      "metadata": {
        "id": "8y0l5LhKGnzS",
        "colab_type": "code",
        "colab": {}
      },
      "source": [
        "#function to split array content based on pipe operator with cnt condition to check for nested loops\n",
        "#if cnt==0 then no nested loops else small variation in code to retrieve nested words.\n",
        "#using random to pick a random word\n",
        "import random\n",
        "def findval(stack, cnt):\n",
        "    if cnt==0:\n",
        "        s = ''.join(stack)\n",
        "        t = s.split('|')\n",
        "        arr=[]\n",
        "        for i in t:\n",
        "            arr.append(i)\n",
        "        return(random.choice(arr))\n",
        "    else:\n",
        "        i=1\n",
        "        j=len(stack)\n",
        "        s = ''.join(stack[i:j-1])\n",
        "        t = s.split('|')\n",
        "        arr=[]\n",
        "        for i in t:\n",
        "            arr.append(i)\n",
        "        return(random.choice(arr))\n",
        "        \n",
        "            \n",
        "        "
      ],
      "execution_count": 0,
      "outputs": []
    },
    {
      "cell_type": "code",
      "metadata": {
        "id": "DtvqK5X7Gnzn",
        "colab_type": "code",
        "colab": {}
      },
      "source": [
        "def generate_sentence(s):\n",
        "    main_arr=[]\n",
        "    st=[]\n",
        "    i=0\n",
        "    while i<len(s):\n",
        "        #start index and end index\n",
        "        #count var to check for nested loops\n",
        "        st=i\n",
        "        en=i\n",
        "        count=0\n",
        "        if s[st]=='{':\n",
        "            count+=1\n",
        "        while s[st]=='{' and s[en]!='}':\n",
        "            if s[en]=='{' and en!=st:\n",
        "                count+=1\n",
        "            #find end index where s[en]=='}'\n",
        "            en+=1\n",
        "        if s[en]=='}':\n",
        "            count-=1\n",
        "            if count==0:\n",
        "                #calling above function to get a random word and insert to main array\n",
        "                main_arr.append(findval(s[st+1:en], count))\n",
        "            else:\n",
        "                main_arr.append(findval(s[st+1:en+1], count))\n",
        "            i=en+1\n",
        "        else:\n",
        "            main_arr.append(s[en])\n",
        "            en+=1\n",
        "            i=en\n",
        "    sent = ''.join(main_arr)\n",
        "    sent_sp = sent.split(' ')\n",
        "    main_arr=[]\n",
        "    for i in sent_sp:\n",
        "        #checking if any pipe remained in the string. \n",
        "        if '|' in i:\n",
        "            main_arr.append(findval(i,0))\n",
        "        else:\n",
        "            main_arr.append(i)\n",
        "    return(\" \".join(main_arr))\n",
        "    \n",
        "        \n",
        "    \n",
        "    \n"
      ],
      "execution_count": 0,
      "outputs": []
    },
    {
      "cell_type": "code",
      "metadata": {
        "id": "UwseZ3r3Gnz4",
        "colab_type": "code",
        "colab": {
          "base_uri": "https://localhost:8080/",
          "height": 35
        },
        "outputId": "ca9e5e19-b8ca-4448-f76b-ab8a2b3ab146"
      },
      "source": [
        "print(generate_sentence(s))"
      ],
      "execution_count": 7,
      "outputs": [
        {
          "output_type": "stream",
          "text": [
            "I am working on this interview. I hope Cortx thinks I am extremely awesome.\n"
          ],
          "name": "stdout"
        }
      ]
    }
  ]
}