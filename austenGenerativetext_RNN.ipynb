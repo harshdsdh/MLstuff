{
  "nbformat": 4,
  "nbformat_minor": 0,
  "metadata": {
    "colab": {
      "name": "austenGenerativetext_RNN.ipynb",
      "provenance": [],
      "authorship_tag": "ABX9TyNui7tQiCkSZovqjrKJeabC",
      "include_colab_link": true
    },
    "kernelspec": {
      "name": "python3",
      "display_name": "Python 3"
    },
    "accelerator": "GPU"
  },
  "cells": [
    {
      "cell_type": "markdown",
      "metadata": {
        "id": "view-in-github",
        "colab_type": "text"
      },
      "source": [
        "<a href=\"https://colab.research.google.com/github/harshdsdh/MLstuff/blob/master/austenGenerativetext_RNN.ipynb\" target=\"_parent\"><img src=\"https://colab.research.google.com/assets/colab-badge.svg\" alt=\"Open In Colab\"/></a>"
      ]
    },
    {
      "cell_type": "code",
      "metadata": {
        "id": "S1o0BxeYSQCz",
        "colab_type": "code",
        "colab": {}
      },
      "source": [
        "# Import Tensorflow 2.0\n",
        "%tensorflow_version 2.x\n",
        "import tensorflow as tf \n",
        "\n",
        "# Download and import the MIT 6.S191 package\n",
        "!pip install mitdeeplearning\n",
        "import mitdeeplearning as mdl\n",
        "\n",
        "# Import all remaining packages\n",
        "import numpy as np\n",
        "import os\n",
        "import time\n",
        "import functools\n",
        "from IPython import display as ipythondisplay\n",
        "from tqdm import tqdm\n",
        "!apt-get install abcmidi timidity > /dev/null 2>&1\n",
        "\n",
        "# Check that we are using a GPU, if not switch runtimes\n",
        "#   using Runtime > Change Runtime Type > GPU\n",
        "assert len(tf.config.list_physical_devices('GPU')) > 0"
      ],
      "execution_count": 0,
      "outputs": []
    },
    {
      "cell_type": "code",
      "metadata": {
        "id": "L86b7ppoSYoa",
        "colab_type": "code",
        "colab": {}
      },
      "source": [
        "import pandas as pd\n"
      ],
      "execution_count": 0,
      "outputs": []
    },
    {
      "cell_type": "code",
      "metadata": {
        "id": "VkyBMUjhSv2b",
        "colab_type": "code",
        "colab": {}
      },
      "source": [
        "filename = '/content/missAusten.txt'\n",
        "raw_text = open(filename,'r',encoding='utf-8').read()\n",
        "raw_text= raw_text.lower()"
      ],
      "execution_count": 0,
      "outputs": []
    },
    {
      "cell_type": "code",
      "metadata": {
        "id": "HtoKAcA7Ul3y",
        "colab_type": "code",
        "colab": {
          "base_uri": "https://localhost:8080/",
          "height": 36
        },
        "outputId": "fb0a1927-cbdb-49ce-ea21-a4087f4d37cc"
      },
      "source": [
        "vocab = sorted(set(raw_text))\n",
        "print(\"there are\",len(vocab),\" unique characters in the dataset\")"
      ],
      "execution_count": 27,
      "outputs": [
        {
          "output_type": "stream",
          "text": [
            "there are 66  unique characters in the dataset\n"
          ],
          "name": "stdout"
        }
      ]
    },
    {
      "cell_type": "code",
      "metadata": {
        "id": "BpRgUN_sXA4i",
        "colab_type": "code",
        "colab": {}
      },
      "source": [
        "char2idx = {u:i for i,u in enumerate(vocab)}\n",
        "idx2char = np.array(vocab)"
      ],
      "execution_count": 0,
      "outputs": []
    },
    {
      "cell_type": "code",
      "metadata": {
        "id": "Dym32HQSXbxR",
        "colab_type": "code",
        "colab": {}
      },
      "source": [
        "print(\"{\")\n",
        "for char,_ in zip(char2idx, range(20)):\n",
        "  print('  {:4s}: {:3d},'.format(repr(char), char2idx[char]))\n",
        "print('  ...\\n}')"
      ],
      "execution_count": 0,
      "outputs": []
    },
    {
      "cell_type": "code",
      "metadata": {
        "id": "b24mtlf9XpfH",
        "colab_type": "code",
        "colab": {}
      },
      "source": [
        "def vectorized_string(string):\n",
        "  arr=[]\n",
        "  for i in string:\n",
        "    arr.append(char2idx[i])\n",
        "  return np.array(arr)\n",
        "vectorized_book = vectorized_string(raw_text)"
      ],
      "execution_count": 0,
      "outputs": []
    },
    {
      "cell_type": "code",
      "metadata": {
        "id": "xG-1EnbbYAqN",
        "colab_type": "code",
        "colab": {
          "base_uri": "https://localhost:8080/",
          "height": 36
        },
        "outputId": "6cae3c3b-1aee-424b-c258-48044c32876f"
      },
      "source": [
        "print ('{} ---- characters mapped to int ----> {}'.format(repr(raw_text[:10]), vectorized_book[:10]))"
      ],
      "execution_count": 32,
      "outputs": [
        {
          "output_type": "stream",
          "text": [
            "'\\ufeff\\nthe proj' ---- characters mapped to int ----> [65  0 50 38 35  1 46 48 45 40]\n"
          ],
          "name": "stdout"
        }
      ]
    },
    {
      "cell_type": "code",
      "metadata": {
        "id": "c5ymhV6AYLse",
        "colab_type": "code",
        "colab": {}
      },
      "source": [
        "def get_batch(vectorized_book, seq_length, batch_size):\n",
        "  n=vectorized_book.shape[0]-1\n",
        "  idx = np.random.choice(n-seq_length, batch_size)\n",
        "  input_batch = [vectorized_book[i:i+seq_length] for i in idx]\n",
        "  output_batch = [vectorized_book[i+1:i+seq_length+1] for i in idx]\n",
        "  \n",
        "  x_batch = np.reshape(input_batch,[batch_size,seq_length])\n",
        "  y_batch = np.reshape(output_batch,[batch_size,seq_length])\n",
        "  return x_batch,y_batch"
      ],
      "execution_count": 0,
      "outputs": []
    },
    {
      "cell_type": "code",
      "metadata": {
        "id": "ltoLBYrlZLMH",
        "colab_type": "code",
        "colab": {
          "base_uri": "https://localhost:8080/",
          "height": 298
        },
        "outputId": "7a8b2cbf-60fd-40cc-9289-255c1f2d682e"
      },
      "source": [
        "x_batch, y_batch =  get_batch(vectorized_book, seq_length=5,batch_size=1)\n",
        "for i, (input_idx, target_idx) in enumerate(zip(np.squeeze(x_batch), np.squeeze(y_batch))):\n",
        "    print(\"Step {:3d}\".format(i))\n",
        "    print(\"  input: {} ({:s})\".format(input_idx, repr(idx2char[input_idx])))\n",
        "    print(\"  expected output: {} ({:s})\".format(target_idx, repr(idx2char[target_idx])))"
      ],
      "execution_count": 49,
      "outputs": [
        {
          "output_type": "stream",
          "text": [
            "Step   0\n",
            "  input: 49 ('s')\n",
            "  expected output: 1 (' ')\n",
            "Step   1\n",
            "  input: 1 (' ')\n",
            "  expected output: 38 ('h')\n",
            "Step   2\n",
            "  input: 38 ('h')\n",
            "  expected output: 31 ('a')\n",
            "Step   3\n",
            "  input: 31 ('a')\n",
            "  expected output: 44 ('n')\n",
            "Step   4\n",
            "  input: 44 ('n')\n",
            "  expected output: 34 ('d')\n"
          ],
          "name": "stdout"
        }
      ]
    },
    {
      "cell_type": "code",
      "metadata": {
        "id": "udjNRn7RZcsX",
        "colab_type": "code",
        "colab": {}
      },
      "source": [
        "def LSTM(rnn_units):\n",
        "  return tf.keras.layers.LSTM(\n",
        "      rnn_units,\n",
        "      return_sequences=True,\n",
        "      recurrent_initializer=\"glorot_uniform\",\n",
        "      recurrent_activation = 'sigmoid',\n",
        "      stateful=True,\n",
        "  )"
      ],
      "execution_count": 0,
      "outputs": []
    },
    {
      "cell_type": "code",
      "metadata": {
        "id": "D-3acMCiZ7yc",
        "colab_type": "code",
        "colab": {}
      },
      "source": [
        "def build_model(vocab_size,embedding_dim,rnn_units,batch_size):\n",
        "  model = tf.keras.Sequential([\n",
        "                               tf.keras.layers.Embedding(vocab_size,embedding_dim,batch_input_shape=[batch_size,None]),\n",
        "                               LSTM(rnn_units),\n",
        "                               tf.keras.layers.Dense(vocab_size)\n",
        "  ])\n",
        "  return model\n",
        "model = build_model(len(vocab), embedding_dim=256, rnn_units=1024, batch_size=32)"
      ],
      "execution_count": 0,
      "outputs": []
    },
    {
      "cell_type": "code",
      "metadata": {
        "id": "dS3WMY03awOB",
        "colab_type": "code",
        "colab": {
          "base_uri": "https://localhost:8080/",
          "height": 279
        },
        "outputId": "eda419b3-0a0a-4cd1-bd5a-66b205c3b10a"
      },
      "source": [
        "model.summary()"
      ],
      "execution_count": 52,
      "outputs": [
        {
          "output_type": "stream",
          "text": [
            "Model: \"sequential_1\"\n",
            "_________________________________________________________________\n",
            "Layer (type)                 Output Shape              Param #   \n",
            "=================================================================\n",
            "embedding_1 (Embedding)      (32, None, 256)           16896     \n",
            "_________________________________________________________________\n",
            "lstm_1 (LSTM)                (32, None, 1024)          5246976   \n",
            "_________________________________________________________________\n",
            "dense_1 (Dense)              (32, None, 66)            67650     \n",
            "=================================================================\n",
            "Total params: 5,331,522\n",
            "Trainable params: 5,331,522\n",
            "Non-trainable params: 0\n",
            "_________________________________________________________________\n"
          ],
          "name": "stdout"
        }
      ]
    },
    {
      "cell_type": "code",
      "metadata": {
        "id": "AyQXQOhla7ks",
        "colab_type": "code",
        "colab": {
          "base_uri": "https://localhost:8080/",
          "height": 54
        },
        "outputId": "1f22746e-a961-4dff-f9e3-b7872eb1d329"
      },
      "source": [
        "x, y = get_batch(vectorized_book, seq_length=100, batch_size=32)\n",
        "pred = model(x)\n",
        "print(\"Input shape:      \", x.shape, \" # (batch_size, sequence_length)\")\n",
        "print(\"Prediction shape: \", pred.shape, \"# (batch_size, sequence_length, vocab_size)\")"
      ],
      "execution_count": 53,
      "outputs": [
        {
          "output_type": "stream",
          "text": [
            "Input shape:       (32, 100)  # (batch_size, sequence_length)\n",
            "Prediction shape:  (32, 100, 66) # (batch_size, sequence_length, vocab_size)\n"
          ],
          "name": "stdout"
        }
      ]
    },
    {
      "cell_type": "code",
      "metadata": {
        "id": "jebCWNw0c0XU",
        "colab_type": "code",
        "colab": {
          "base_uri": "https://localhost:8080/",
          "height": 36
        },
        "outputId": "e4d6bd83-874a-4a3a-b88d-7d659eebe459"
      },
      "source": [
        "y.shape"
      ],
      "execution_count": 54,
      "outputs": [
        {
          "output_type": "execute_result",
          "data": {
            "text/plain": [
              "(32, 100)"
            ]
          },
          "metadata": {
            "tags": []
          },
          "execution_count": 54
        }
      ]
    },
    {
      "cell_type": "code",
      "metadata": {
        "id": "DIbW0hFmbFbS",
        "colab_type": "code",
        "colab": {
          "base_uri": "https://localhost:8080/",
          "height": 129
        },
        "outputId": "e9333fea-5ced-45eb-ff59-92bf8de00ce5"
      },
      "source": [
        "sampled_indices = tf.random.categorical(pred[0], num_samples=1)\n",
        "sampled_indices = tf.squeeze(sampled_indices,axis=-1).numpy()\n",
        "sampled_indices"
      ],
      "execution_count": 55,
      "outputs": [
        {
          "output_type": "execute_result",
          "data": {
            "text/plain": [
              "array([18, 42, 65,  6, 22, 45, 13, 51, 30,  2, 27, 54, 40, 15, 63,  1, 14,\n",
              "       35, 50,  6, 17,  9, 10, 61,  0, 18,  4, 38, 44, 11, 62, 22, 45, 26,\n",
              "       11, 19, 55, 38,  0, 13, 48, 55, 45, 58, 44, 27, 36, 13,  7, 14, 18,\n",
              "       50, 27, 39, 61, 41, 50,  6, 38, 20, 36,  6, 34, 13, 49, 39, 45, 25,\n",
              "       21,  8, 53, 53, 49, 49, 27, 12,  7, 52, 37,  4, 49, 59, 58, 37, 48,\n",
              "       42, 48, 48,  1, 59, 38, 64, 63, 28, 32,  7,  7, 19, 24, 14])"
            ]
          },
          "metadata": {
            "tags": []
          },
          "execution_count": 55
        }
      ]
    },
    {
      "cell_type": "code",
      "metadata": {
        "id": "hcX5tMgtbKj2",
        "colab_type": "code",
        "colab": {
          "base_uri": "https://localhost:8080/",
          "height": 111
        },
        "outputId": "e1eb6729-5881-4bb4-e5eb-99a13974a669"
      },
      "source": [
        "print(\"Input: \\n\", repr(\"\".join(idx2char[x[0]])))\n",
        "print()\n",
        "print(\"Next Char Predictions: \\n\", repr(\"\".join(idx2char[sampled_indices])))"
      ],
      "execution_count": 56,
      "outputs": [
        {
          "output_type": "stream",
          "text": [
            "Input: \n",
            " 'with equal pleasure, and then proceeded to relate\\n      the particulars of their interview, with the'\n",
            "\n",
            "Next Char Predictions: \n",
            " \"4l\\ufeff'8o/u_!@xj1“ 0et'3*,‘\\n4$hn-’8o?-5yh\\n/ryoén@f/(04t@i‘kt'h6f'd/sio;7)wwss@.(vg$sêégrlrr êh”“[b((5:0\"\n"
          ],
          "name": "stdout"
        }
      ]
    },
    {
      "cell_type": "code",
      "metadata": {
        "id": "NP95mBSqcPO2",
        "colab_type": "code",
        "colab": {
          "base_uri": "https://localhost:8080/",
          "height": 36
        },
        "outputId": "c94d6c08-6a9d-4427-9900-40976951b905"
      },
      "source": [
        "y.shape, pred.shape"
      ],
      "execution_count": 57,
      "outputs": [
        {
          "output_type": "execute_result",
          "data": {
            "text/plain": [
              "((32, 100), TensorShape([32, 100, 66]))"
            ]
          },
          "metadata": {
            "tags": []
          },
          "execution_count": 57
        }
      ]
    },
    {
      "cell_type": "code",
      "metadata": {
        "id": "MrJh2o9TbRUd",
        "colab_type": "code",
        "colab": {
          "base_uri": "https://localhost:8080/",
          "height": 54
        },
        "outputId": "93987cfd-07c9-4fa0-d4b1-f02bcdb13c30"
      },
      "source": [
        "def compute_loss(labels, logits):\n",
        "  loss = tf.keras.losses.sparse_categorical_crossentropy(labels, logits, from_logits=True) # TODO\n",
        "  return loss\n",
        "\n",
        "'''TODO: compute the loss using the true next characters from the example batch \n",
        "    and the predictions from the untrained model several cells above'''\n",
        "example_batch_loss = compute_loss(y, pred) # TODO\n",
        "\n",
        "print(\"Prediction shape: \", pred.shape, \" # (batch_size, sequence_length, vocab_size)\") \n",
        "print(\"scalar_loss:      \", example_batch_loss.numpy().mean())"
      ],
      "execution_count": 59,
      "outputs": [
        {
          "output_type": "stream",
          "text": [
            "Prediction shape:  (32, 100, 66)  # (batch_size, sequence_length, vocab_size)\n",
            "scalar_loss:       4.190466\n"
          ],
          "name": "stdout"
        }
      ]
    },
    {
      "cell_type": "code",
      "metadata": {
        "id": "Njd7eAstd6Tt",
        "colab_type": "code",
        "colab": {}
      },
      "source": [
        "num_training_iterations = 3000  # Increase this to train longer\n",
        "batch_size = 4  # Experiment between 1 and 64\n",
        "seq_length = 50  # Experiment between 50 and 500\n",
        "learning_rate = 5e-3  # Experiment between 1e-5 and 1e-1\n",
        "\n",
        "# Model parameters: \n",
        "vocab_size = len(vocab)\n",
        "embedding_dim = 256 \n",
        "rnn_units = 1024  # Experiment between 1 and 2048\n",
        "\n",
        "# Checkpoint location: \n",
        "checkpoint_dir = './training_checkpoints'\n",
        "checkpoint_prefix = os.path.join(checkpoint_dir, \"my_ckpt\")"
      ],
      "execution_count": 0,
      "outputs": []
    },
    {
      "cell_type": "code",
      "metadata": {
        "id": "QaQCddSaeAU4",
        "colab_type": "code",
        "colab": {
          "base_uri": "https://localhost:8080/",
          "height": 560
        },
        "outputId": "fb2177bb-4340-435b-addc-c7acff1cd883"
      },
      "source": [
        "model  = build_model(vocab_size, embedding_dim,rnn_units, batch_size)\n",
        "optimizer = tf.keras.optimizers.Adam(learning_rate,amsgrad=False,name='Adam')\n",
        "def train_step(x,y):\n",
        "  with tf.GradientTape() as tape:\n",
        "    y_hat = model(x)\n",
        "    loss = compute_loss(y,y_hat)\n",
        "    grads = tape.gradient(loss, model.trainable_variables)\n",
        "    optimizer.apply_gradients(zip(grads, model.trainable_variables))\n",
        "    return loss\n",
        "history = []\n",
        "plotter = mdl.util.PeriodicPlotter(sec=2, xlabel='Iterations', ylabel='Loss')\n",
        "if hasattr(tqdm, '_instances'): tqdm._instances.clear() # clear if it exists\n",
        "\n",
        "for iter in tqdm(range(num_training_iterations)):\n",
        "\n",
        "  # Grab a batch and propagate it through the network\n",
        "  x_batch, y_batch = get_batch(vectorized_book, seq_length, batch_size)\n",
        "  loss = train_step(x_batch, y_batch)\n",
        "\n",
        "  # Update the progress bar\n",
        "  history.append(loss.numpy().mean())\n",
        "  plotter.plot(history)\n",
        "\n",
        "  # Update the model with the changed weights!\n",
        "  if iter % 100 == 0:     \n",
        "    model.save_weights(checkpoint_prefix)\n",
        "    \n",
        "# Save the trained model and the weights\n",
        "model.save_weights(checkpoint_prefix)\n"
      ],
      "execution_count": 97,
      "outputs": [
        {
          "output_type": "display_data",
          "data": {
            "image/png": "[encoded data removed]",
            "text/plain": [
              "<Figure size 432x288 with 1 Axes>"
            ]
          },
          "metadata": {
            "tags": []
          }
        },
        {
          "output_type": "stream",
          "text": [
            "100%|██████████| 3000/3000 [00:59<00:00, 50.27it/s]\n"
          ],
          "name": "stderr"
        },
        {
          "output_type": "display_data",
          "data": {
            "image/png": "[encoded data removed]",
            "text/plain": [
              "<Figure size 432x288 with 1 Axes>"
            ]
          },
          "metadata": {
            "tags": []
          }
        }
      ]
    },
    {
      "cell_type": "code",
      "metadata": {
        "id": "tMaQLW83fIFC",
        "colab_type": "code",
        "colab": {
          "base_uri": "https://localhost:8080/",
          "height": 279
        },
        "outputId": "10795b3f-521d-4605-9437-fae2d99d6d29"
      },
      "source": [
        "model = build_model(vocab_size, embedding_dim, rnn_units, batch_size=1)\n",
        "model.load_weights(tf.train.latest_checkpoint(checkpoint_dir))\n",
        "model.build(tf.TensorShape([1,None]))\n",
        "model.summary()"
      ],
      "execution_count": 100,
      "outputs": [
        {
          "output_type": "stream",
          "text": [
            "Model: \"sequential_11\"\n",
            "_________________________________________________________________\n",
            "Layer (type)                 Output Shape              Param #   \n",
            "=================================================================\n",
            "embedding_11 (Embedding)     (1, None, 256)            16896     \n",
            "_________________________________________________________________\n",
            "lstm_11 (LSTM)               (1, None, 1024)           5246976   \n",
            "_________________________________________________________________\n",
            "dense_11 (Dense)             (1, None, 66)             67650     \n",
            "=================================================================\n",
            "Total params: 5,331,522\n",
            "Trainable params: 5,331,522\n",
            "Non-trainable params: 0\n",
            "_________________________________________________________________\n"
          ],
          "name": "stdout"
        }
      ]
    },
    {
      "cell_type": "code",
      "metadata": {
        "id": "W5iIHEM7fag4",
        "colab_type": "code",
        "colab": {}
      },
      "source": [
        "def generate_text(model, start_string, generation_length=1000):\n",
        "  # Evaluation step (generating ABC text using the learned RNN model)\n",
        "\n",
        "  '''TODO: convert the start string to numbers (vectorize)'''\n",
        "  input_eval = [char2idx[s] for s in start_string]\n",
        "  input_eval = tf.expand_dims(input_eval, 0)\n",
        "\n",
        "  # Empty string to store our results\n",
        "  text_generated = []\n",
        "\n",
        "  # Here batch size == 1\n",
        "  model.reset_states()\n",
        "  tqdm._instances.clear()\n",
        "\n",
        "  for i in tqdm(range(generation_length)):\n",
        "      '''TODO: evaluate the inputs and generate the next character predictions'''\n",
        "      predictions = model(input_eval)\n",
        "      \n",
        "      # Remove the batch dimension\n",
        "      predictions = tf.squeeze(predictions, 0)\n",
        "      \n",
        "      '''TODO: use a multinomial distribution to sample'''\n",
        "      predicted_id = tf.random.categorical(predictions, num_samples=1)[-1,0].numpy()\n",
        "      \n",
        "      # Pass the prediction along with the previous hidden state\n",
        "      #   as the next inputs to the model\n",
        "      input_eval = tf.expand_dims([predicted_id], 0)\n",
        "      \n",
        "      '''TODO: add the predicted character to the generated text!'''\n",
        "      # Hint: consider what format the prediction is in vs. the output\n",
        "      text_generated.append(idx2char[predicted_id])\n",
        "    \n",
        "  return (start_string + ''.join(text_generated))"
      ],
      "execution_count": 0,
      "outputs": []
    },
    {
      "cell_type": "code",
      "metadata": {
        "id": "TV4lf8Y0fkc9",
        "colab_type": "code",
        "colab": {
          "base_uri": "https://localhost:8080/",
          "height": 36
        },
        "outputId": "bb7597b9-2aee-415e-ee9e-50f9e334b798"
      },
      "source": [
        "generated_text = generate_text(model, start_string=\"the\", generation_length=500) "
      ],
      "execution_count": 104,
      "outputs": [
        {
          "output_type": "stream",
          "text": [
            "100%|██████████| 500/500 [00:02<00:00, 213.18it/s]\n"
          ],
          "name": "stderr"
        }
      ]
    },
    {
      "cell_type": "code",
      "metadata": {
        "id": "z5TVT9mzfuGv",
        "colab_type": "code",
        "colab": {
          "base_uri": "https://localhost:8080/",
          "height": 241
        },
        "outputId": "281c9123-04dd-4367-c8c2-1346c4282274"
      },
      "source": [
        "print(generated_text)"
      ],
      "execution_count": 105,
      "outputs": [
        {
          "output_type": "stream",
          "text": [
            "them. i which siles, her estates, meryt\n",
            "      of sixe disposited. for mr. darcy to herger 59\n",
            "\n",
            "    good of confessed man.\n",
            "      to with espedit, and scarcely of her repaging on the law the hearth silence on she ent to be in a matter,\n",
            "      never the\n",
            "      to dispokence of such ever sadely attention, and every a\n",
            "      from she was ocal and it had hand.”\n",
            "\n",
            "      “y\n",
            "      you say in sufferent at thinquilly in a\n",
            "      she expressed not tempt to to know, three in your ampetal her may an digracital eagerin\n"
          ],
          "name": "stdout"
        }
      ]
    }
  ]
}