{
  "nbformat": 4,
  "nbformat_minor": 0,
  "metadata": {
    "colab": {
      "name": "Centered data matrix.ipynb",
      "provenance": [],
      "authorship_tag": "ABX9TyOpCjQtUCEPKVEGXzXP6cK8",
      "include_colab_link": true
    },
    "kernelspec": {
      "name": "python3",
      "display_name": "Python 3"
    }
  },
  "cells": [
    {
      "cell_type": "markdown",
      "metadata": {
        "id": "view-in-github",
        "colab_type": "text"
      },
      "source": [
        "<a href=\"https://colab.research.google.com/github/harshdsdh/MLstuff/blob/master/Centered_data_matrix.ipynb\" target=\"_parent\"><img src=\"https://colab.research.google.com/assets/colab-badge.svg\" alt=\"Open In Colab\"/></a>"
      ]
    },
    {
      "cell_type": "markdown",
      "metadata": {
        "id": "g5WZM3Ustx20",
        "colab_type": "text"
      },
      "source": [
        "mean of a centered data matrix is always zero."
      ]
    },
    {
      "cell_type": "code",
      "metadata": {
        "id": "txQ7FRw4mI5x",
        "colab_type": "code",
        "colab": {}
      },
      "source": [
        "#importing dataset\n",
        "import pandas as pd\n",
        "import numpy as np\n",
        "from sklearn.datasets import load_iris"
      ],
      "execution_count": 0,
      "outputs": []
    },
    {
      "cell_type": "code",
      "metadata": {
        "id": "6BsZf25jly2L",
        "colab_type": "code",
        "colab": {}
      },
      "source": [
        " data = load_iris()"
      ],
      "execution_count": 0,
      "outputs": []
    },
    {
      "cell_type": "code",
      "metadata": {
        "id": "bHBz5InsmaFJ",
        "colab_type": "code",
        "colab": {}
      },
      "source": [
        "X,y  =data.data, data.target"
      ],
      "execution_count": 0,
      "outputs": []
    },
    {
      "cell_type": "code",
      "metadata": {
        "id": "-B5dqjpZmk0K",
        "colab_type": "code",
        "colab": {}
      },
      "source": [
        "X = pd.DataFrame(X)"
      ],
      "execution_count": 0,
      "outputs": []
    },
    {
      "cell_type": "code",
      "metadata": {
        "id": "nPCjTdQemqSd",
        "colab_type": "code",
        "colab": {
          "base_uri": "https://localhost:8080/",
          "height": 424
        },
        "outputId": "306f353d-5f17-4727-e40a-2d5834fcb0fa"
      },
      "source": [
        "#our data frame looks like this\n",
        "X"
      ],
      "execution_count": 5,
      "outputs": [
        {
          "output_type": "execute_result",
          "data": {
            "text/html": [
              "<div>\n",
              "<style scoped>\n",
              "    .dataframe tbody tr th:only-of-type {\n",
              "        vertical-align: middle;\n",
              "    }\n",
              "\n",
              "    .dataframe tbody tr th {\n",
              "        vertical-align: top;\n",
              "    }\n",
              "\n",
              "    .dataframe thead th {\n",
              "        text-align: right;\n",
              "    }\n",
              "</style>\n",
              "<table border=\"1\" class=\"dataframe\">\n",
              "  <thead>\n",
              "    <tr style=\"text-align: right;\">\n",
              "      <th></th>\n",
              "      <th>0</th>\n",
              "      <th>1</th>\n",
              "      <th>2</th>\n",
              "      <th>3</th>\n",
              "    </tr>\n",
              "  </thead>\n",
              "  <tbody>\n",
              "    <tr>\n",
              "      <th>0</th>\n",
              "      <td>5.1</td>\n",
              "      <td>3.5</td>\n",
              "      <td>1.4</td>\n",
              "      <td>0.2</td>\n",
              "    </tr>\n",
              "    <tr>\n",
              "      <th>1</th>\n",
              "      <td>4.9</td>\n",
              "      <td>3.0</td>\n",
              "      <td>1.4</td>\n",
              "      <td>0.2</td>\n",
              "    </tr>\n",
              "    <tr>\n",
              "      <th>2</th>\n",
              "      <td>4.7</td>\n",
              "      <td>3.2</td>\n",
              "      <td>1.3</td>\n",
              "      <td>0.2</td>\n",
              "    </tr>\n",
              "    <tr>\n",
              "      <th>3</th>\n",
              "      <td>4.6</td>\n",
              "      <td>3.1</td>\n",
              "      <td>1.5</td>\n",
              "      <td>0.2</td>\n",
              "    </tr>\n",
              "    <tr>\n",
              "      <th>4</th>\n",
              "      <td>5.0</td>\n",
              "      <td>3.6</td>\n",
              "      <td>1.4</td>\n",
              "      <td>0.2</td>\n",
              "    </tr>\n",
              "    <tr>\n",
              "      <th>...</th>\n",
              "      <td>...</td>\n",
              "      <td>...</td>\n",
              "      <td>...</td>\n",
              "      <td>...</td>\n",
              "    </tr>\n",
              "    <tr>\n",
              "      <th>145</th>\n",
              "      <td>6.7</td>\n",
              "      <td>3.0</td>\n",
              "      <td>5.2</td>\n",
              "      <td>2.3</td>\n",
              "    </tr>\n",
              "    <tr>\n",
              "      <th>146</th>\n",
              "      <td>6.3</td>\n",
              "      <td>2.5</td>\n",
              "      <td>5.0</td>\n",
              "      <td>1.9</td>\n",
              "    </tr>\n",
              "    <tr>\n",
              "      <th>147</th>\n",
              "      <td>6.5</td>\n",
              "      <td>3.0</td>\n",
              "      <td>5.2</td>\n",
              "      <td>2.0</td>\n",
              "    </tr>\n",
              "    <tr>\n",
              "      <th>148</th>\n",
              "      <td>6.2</td>\n",
              "      <td>3.4</td>\n",
              "      <td>5.4</td>\n",
              "      <td>2.3</td>\n",
              "    </tr>\n",
              "    <tr>\n",
              "      <th>149</th>\n",
              "      <td>5.9</td>\n",
              "      <td>3.0</td>\n",
              "      <td>5.1</td>\n",
              "      <td>1.8</td>\n",
              "    </tr>\n",
              "  </tbody>\n",
              "</table>\n",
              "<p>150 rows × 4 columns</p>\n",
              "</div>"
            ],
            "text/plain": [
              "       0    1    2    3\n",
              "0    5.1  3.5  1.4  0.2\n",
              "1    4.9  3.0  1.4  0.2\n",
              "2    4.7  3.2  1.3  0.2\n",
              "3    4.6  3.1  1.5  0.2\n",
              "4    5.0  3.6  1.4  0.2\n",
              "..   ...  ...  ...  ...\n",
              "145  6.7  3.0  5.2  2.3\n",
              "146  6.3  2.5  5.0  1.9\n",
              "147  6.5  3.0  5.2  2.0\n",
              "148  6.2  3.4  5.4  2.3\n",
              "149  5.9  3.0  5.1  1.8\n",
              "\n",
              "[150 rows x 4 columns]"
            ]
          },
          "metadata": {
            "tags": []
          },
          "execution_count": 5
        }
      ]
    },
    {
      "cell_type": "code",
      "metadata": {
        "id": "4LJW84yemrey",
        "colab_type": "code",
        "colab": {}
      },
      "source": [
        "m = np.mean(X, axis=0)"
      ],
      "execution_count": 0,
      "outputs": []
    },
    {
      "cell_type": "markdown",
      "metadata": {
        "id": "P6RaIsN4uNY4",
        "colab_type": "text"
      },
      "source": [
        "mean from uncentered matrix"
      ]
    },
    {
      "cell_type": "code",
      "metadata": {
        "id": "cg-gYmHenRwI",
        "colab_type": "code",
        "colab": {
          "base_uri": "https://localhost:8080/",
          "height": 109
        },
        "outputId": "9deeff80-c3e1-4586-fca1-5402df9673af"
      },
      "source": [
        "print(m)"
      ],
      "execution_count": 7,
      "outputs": [
        {
          "output_type": "stream",
          "text": [
            "0    5.843333\n",
            "1    3.057333\n",
            "2    3.758000\n",
            "3    1.199333\n",
            "dtype: float64\n"
          ],
          "name": "stdout"
        }
      ]
    },
    {
      "cell_type": "code",
      "metadata": {
        "id": "CORAg6tInTd7",
        "colab_type": "code",
        "colab": {}
      },
      "source": [
        "X_norm = X-np.mean(X,axis=0)"
      ],
      "execution_count": 0,
      "outputs": []
    },
    {
      "cell_type": "code",
      "metadata": {
        "id": "UM7VLel3nmQt",
        "colab_type": "code",
        "colab": {
          "base_uri": "https://localhost:8080/",
          "height": 424
        },
        "outputId": "2828eccf-772f-4362-dc24-532543c0aef4"
      },
      "source": [
        "#normalized matrix after subtracting mean from data points\n",
        "X_norm"
      ],
      "execution_count": 9,
      "outputs": [
        {
          "output_type": "execute_result",
          "data": {
            "text/html": [
              "<div>\n",
              "<style scoped>\n",
              "    .dataframe tbody tr th:only-of-type {\n",
              "        vertical-align: middle;\n",
              "    }\n",
              "\n",
              "    .dataframe tbody tr th {\n",
              "        vertical-align: top;\n",
              "    }\n",
              "\n",
              "    .dataframe thead th {\n",
              "        text-align: right;\n",
              "    }\n",
              "</style>\n",
              "<table border=\"1\" class=\"dataframe\">\n",
              "  <thead>\n",
              "    <tr style=\"text-align: right;\">\n",
              "      <th></th>\n",
              "      <th>0</th>\n",
              "      <th>1</th>\n",
              "      <th>2</th>\n",
              "      <th>3</th>\n",
              "    </tr>\n",
              "  </thead>\n",
              "  <tbody>\n",
              "    <tr>\n",
              "      <th>0</th>\n",
              "      <td>-0.743333</td>\n",
              "      <td>0.442667</td>\n",
              "      <td>-2.358</td>\n",
              "      <td>-0.999333</td>\n",
              "    </tr>\n",
              "    <tr>\n",
              "      <th>1</th>\n",
              "      <td>-0.943333</td>\n",
              "      <td>-0.057333</td>\n",
              "      <td>-2.358</td>\n",
              "      <td>-0.999333</td>\n",
              "    </tr>\n",
              "    <tr>\n",
              "      <th>2</th>\n",
              "      <td>-1.143333</td>\n",
              "      <td>0.142667</td>\n",
              "      <td>-2.458</td>\n",
              "      <td>-0.999333</td>\n",
              "    </tr>\n",
              "    <tr>\n",
              "      <th>3</th>\n",
              "      <td>-1.243333</td>\n",
              "      <td>0.042667</td>\n",
              "      <td>-2.258</td>\n",
              "      <td>-0.999333</td>\n",
              "    </tr>\n",
              "    <tr>\n",
              "      <th>4</th>\n",
              "      <td>-0.843333</td>\n",
              "      <td>0.542667</td>\n",
              "      <td>-2.358</td>\n",
              "      <td>-0.999333</td>\n",
              "    </tr>\n",
              "    <tr>\n",
              "      <th>...</th>\n",
              "      <td>...</td>\n",
              "      <td>...</td>\n",
              "      <td>...</td>\n",
              "      <td>...</td>\n",
              "    </tr>\n",
              "    <tr>\n",
              "      <th>145</th>\n",
              "      <td>0.856667</td>\n",
              "      <td>-0.057333</td>\n",
              "      <td>1.442</td>\n",
              "      <td>1.100667</td>\n",
              "    </tr>\n",
              "    <tr>\n",
              "      <th>146</th>\n",
              "      <td>0.456667</td>\n",
              "      <td>-0.557333</td>\n",
              "      <td>1.242</td>\n",
              "      <td>0.700667</td>\n",
              "    </tr>\n",
              "    <tr>\n",
              "      <th>147</th>\n",
              "      <td>0.656667</td>\n",
              "      <td>-0.057333</td>\n",
              "      <td>1.442</td>\n",
              "      <td>0.800667</td>\n",
              "    </tr>\n",
              "    <tr>\n",
              "      <th>148</th>\n",
              "      <td>0.356667</td>\n",
              "      <td>0.342667</td>\n",
              "      <td>1.642</td>\n",
              "      <td>1.100667</td>\n",
              "    </tr>\n",
              "    <tr>\n",
              "      <th>149</th>\n",
              "      <td>0.056667</td>\n",
              "      <td>-0.057333</td>\n",
              "      <td>1.342</td>\n",
              "      <td>0.600667</td>\n",
              "    </tr>\n",
              "  </tbody>\n",
              "</table>\n",
              "<p>150 rows × 4 columns</p>\n",
              "</div>"
            ],
            "text/plain": [
              "            0         1      2         3\n",
              "0   -0.743333  0.442667 -2.358 -0.999333\n",
              "1   -0.943333 -0.057333 -2.358 -0.999333\n",
              "2   -1.143333  0.142667 -2.458 -0.999333\n",
              "3   -1.243333  0.042667 -2.258 -0.999333\n",
              "4   -0.843333  0.542667 -2.358 -0.999333\n",
              "..        ...       ...    ...       ...\n",
              "145  0.856667 -0.057333  1.442  1.100667\n",
              "146  0.456667 -0.557333  1.242  0.700667\n",
              "147  0.656667 -0.057333  1.442  0.800667\n",
              "148  0.356667  0.342667  1.642  1.100667\n",
              "149  0.056667 -0.057333  1.342  0.600667\n",
              "\n",
              "[150 rows x 4 columns]"
            ]
          },
          "metadata": {
            "tags": []
          },
          "execution_count": 9
        }
      ]
    },
    {
      "cell_type": "code",
      "metadata": {
        "id": "i07AlC7cnaDC",
        "colab_type": "code",
        "colab": {
          "base_uri": "https://localhost:8080/",
          "height": 109
        },
        "outputId": "9f34d89c-f62e-4934-c22d-97f89848a989"
      },
      "source": [
        "#mean from normalized matrix\n",
        "m1 = np.mean(X_norm, axis=0)\n",
        "print(m1)"
      ],
      "execution_count": 10,
      "outputs": [
        {
          "output_type": "stream",
          "text": [
            "0   -1.125026e-15\n",
            "1   -7.608728e-16\n",
            "2   -2.552033e-15\n",
            "3   -4.485301e-16\n",
            "dtype: float64\n"
          ],
          "name": "stdout"
        }
      ]
    },
    {
      "cell_type": "code",
      "metadata": {
        "id": "PYX5bS36o_g7",
        "colab_type": "code",
        "colab": {
          "base_uri": "https://localhost:8080/",
          "height": 424
        },
        "outputId": "ddeca765-fe2b-41b1-e68b-7dbd4ba8783c"
      },
      "source": [
        "X_norm"
      ],
      "execution_count": 11,
      "outputs": [
        {
          "output_type": "execute_result",
          "data": {
            "text/html": [
              "<div>\n",
              "<style scoped>\n",
              "    .dataframe tbody tr th:only-of-type {\n",
              "        vertical-align: middle;\n",
              "    }\n",
              "\n",
              "    .dataframe tbody tr th {\n",
              "        vertical-align: top;\n",
              "    }\n",
              "\n",
              "    .dataframe thead th {\n",
              "        text-align: right;\n",
              "    }\n",
              "</style>\n",
              "<table border=\"1\" class=\"dataframe\">\n",
              "  <thead>\n",
              "    <tr style=\"text-align: right;\">\n",
              "      <th></th>\n",
              "      <th>0</th>\n",
              "      <th>1</th>\n",
              "      <th>2</th>\n",
              "      <th>3</th>\n",
              "    </tr>\n",
              "  </thead>\n",
              "  <tbody>\n",
              "    <tr>\n",
              "      <th>0</th>\n",
              "      <td>-0.743333</td>\n",
              "      <td>0.442667</td>\n",
              "      <td>-2.358</td>\n",
              "      <td>-0.999333</td>\n",
              "    </tr>\n",
              "    <tr>\n",
              "      <th>1</th>\n",
              "      <td>-0.943333</td>\n",
              "      <td>-0.057333</td>\n",
              "      <td>-2.358</td>\n",
              "      <td>-0.999333</td>\n",
              "    </tr>\n",
              "    <tr>\n",
              "      <th>2</th>\n",
              "      <td>-1.143333</td>\n",
              "      <td>0.142667</td>\n",
              "      <td>-2.458</td>\n",
              "      <td>-0.999333</td>\n",
              "    </tr>\n",
              "    <tr>\n",
              "      <th>3</th>\n",
              "      <td>-1.243333</td>\n",
              "      <td>0.042667</td>\n",
              "      <td>-2.258</td>\n",
              "      <td>-0.999333</td>\n",
              "    </tr>\n",
              "    <tr>\n",
              "      <th>4</th>\n",
              "      <td>-0.843333</td>\n",
              "      <td>0.542667</td>\n",
              "      <td>-2.358</td>\n",
              "      <td>-0.999333</td>\n",
              "    </tr>\n",
              "    <tr>\n",
              "      <th>...</th>\n",
              "      <td>...</td>\n",
              "      <td>...</td>\n",
              "      <td>...</td>\n",
              "      <td>...</td>\n",
              "    </tr>\n",
              "    <tr>\n",
              "      <th>145</th>\n",
              "      <td>0.856667</td>\n",
              "      <td>-0.057333</td>\n",
              "      <td>1.442</td>\n",
              "      <td>1.100667</td>\n",
              "    </tr>\n",
              "    <tr>\n",
              "      <th>146</th>\n",
              "      <td>0.456667</td>\n",
              "      <td>-0.557333</td>\n",
              "      <td>1.242</td>\n",
              "      <td>0.700667</td>\n",
              "    </tr>\n",
              "    <tr>\n",
              "      <th>147</th>\n",
              "      <td>0.656667</td>\n",
              "      <td>-0.057333</td>\n",
              "      <td>1.442</td>\n",
              "      <td>0.800667</td>\n",
              "    </tr>\n",
              "    <tr>\n",
              "      <th>148</th>\n",
              "      <td>0.356667</td>\n",
              "      <td>0.342667</td>\n",
              "      <td>1.642</td>\n",
              "      <td>1.100667</td>\n",
              "    </tr>\n",
              "    <tr>\n",
              "      <th>149</th>\n",
              "      <td>0.056667</td>\n",
              "      <td>-0.057333</td>\n",
              "      <td>1.342</td>\n",
              "      <td>0.600667</td>\n",
              "    </tr>\n",
              "  </tbody>\n",
              "</table>\n",
              "<p>150 rows × 4 columns</p>\n",
              "</div>"
            ],
            "text/plain": [
              "            0         1      2         3\n",
              "0   -0.743333  0.442667 -2.358 -0.999333\n",
              "1   -0.943333 -0.057333 -2.358 -0.999333\n",
              "2   -1.143333  0.142667 -2.458 -0.999333\n",
              "3   -1.243333  0.042667 -2.258 -0.999333\n",
              "4   -0.843333  0.542667 -2.358 -0.999333\n",
              "..        ...       ...    ...       ...\n",
              "145  0.856667 -0.057333  1.442  1.100667\n",
              "146  0.456667 -0.557333  1.242  0.700667\n",
              "147  0.656667 -0.057333  1.442  0.800667\n",
              "148  0.356667  0.342667  1.642  1.100667\n",
              "149  0.056667 -0.057333  1.342  0.600667\n",
              "\n",
              "[150 rows x 4 columns]"
            ]
          },
          "metadata": {
            "tags": []
          },
          "execution_count": 11
        }
      ]
    },
    {
      "cell_type": "code",
      "metadata": {
        "id": "dPqEVQD5n9rs",
        "colab_type": "code",
        "colab": {}
      },
      "source": [
        "from matplotlib import pyplot as plt"
      ],
      "execution_count": 0,
      "outputs": []
    },
    {
      "cell_type": "markdown",
      "metadata": {
        "id": "cZ7qn1C1uoHg",
        "colab_type": "text"
      },
      "source": [
        "in the plot we can see that after normalization, data points(in red) for the first attribute are centered around zero"
      ]
    },
    {
      "cell_type": "code",
      "metadata": {
        "id": "bJkPdrFBoLmT",
        "colab_type": "code",
        "colab": {
          "base_uri": "https://localhost:8080/",
          "height": 265
        },
        "outputId": "b5ecc9fc-5a52-4f04-bbd3-494c6eda3861"
      },
      "source": [
        "fig,ax = plt.subplots()\n",
        "X_norm_plot = [i for i in range(len(X_norm.iloc[:,0]))]\n",
        "y_norm_plot = X_norm.iloc[:,0]\n",
        "y_orig = X.iloc[:,0]\n",
        "plt.scatter(X_norm_plot,y_norm_plot,c='red')\n",
        "plt.scatter(X_norm_plot,y_orig,c='blue')\n",
        "plt.show()"
      ],
      "execution_count": 13,
      "outputs": [
        {
          "output_type": "display_data",
          "data": {
            "image/png": "[encoded data removed]",
            "text/plain": [
              "<Figure size 432x288 with 1 Axes>"
            ]
          },
          "metadata": {
            "tags": [],
            "needs_background": "light"
          }
        }
      ]
    }
  ]
}