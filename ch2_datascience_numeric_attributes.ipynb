{
  "nbformat": 4,
  "nbformat_minor": 0,
  "metadata": {
    "colab": {
      "name": "ch2 datascience numeric attributes.ipynb",
      "provenance": [],
      "collapsed_sections": [],
      "authorship_tag": "ABX9TyNiwtVsAFbPTwP3kyNTz8Sd",
      "include_colab_link": true
    },
    "kernelspec": {
      "name": "python3",
      "display_name": "Python 3"
    }
  },
  "cells": [
    {
      "cell_type": "markdown",
      "metadata": {
        "id": "view-in-github",
        "colab_type": "text"
      },
      "source": [
        "<a href=\"https://colab.research.google.com/github/harshdsdh/MLstuff/blob/master/ch2_datascience_numeric_attributes.ipynb\" target=\"_parent\"><img src=\"https://colab.research.google.com/assets/colab-badge.svg\" alt=\"Open In Colab\"/></a>"
      ]
    },
    {
      "cell_type": "markdown",
      "metadata": {
        "id": "HdY9zRb70WxN",
        "colab_type": "text"
      },
      "source": [
        "ch2 Numeric Attributes"
      ]
    },
    {
      "cell_type": "code",
      "metadata": {
        "id": "FiFNwosN0c0M",
        "colab_type": "code",
        "colab": {}
      },
      "source": [
        "#Q.1 True or False\n",
        "#Mean is robust against outliers. - False\n",
        "#Median is robust against outliers - True\n",
        "#Standard deviation is robust against outliers - False"
      ],
      "execution_count": 0,
      "outputs": []
    },
    {
      "cell_type": "code",
      "metadata": {
        "id": "piW2Ahze1Y9c",
        "colab_type": "code",
        "colab": {
          "base_uri": "https://localhost:8080/",
          "height": 54
        },
        "outputId": "7dad67be-8797-41b1-d47d-b8a296970c40"
      },
      "source": [
        "import numpy as np\n",
        "from scipy import stats\n",
        "#q.2 Let X and Y be two random variables, denoting age and weight, respectively. \n",
        "#Consider a random sample of size n=20 from these two variables \n",
        "X = [69,74,68,70,72,67,66,70,76,68,72,79,74,67,66,71,74,75,75,76]\n",
        "Y = [153,175,155,135,172,150,115,137,200,130,140,265,185,112,140, 150,165,185,210,220]\n",
        "#(a) Find the mean, median, and mode for X. \n",
        "mean = np.mean(X)\n",
        "median = np.median(X)\n",
        "mode = stats.mode(X)\n",
        "var = np.var(X)\n",
        "print(f\" mean is {mean}, median is {median}, mode is {mode.mode}, variance is {var}\")\n",
        "#(b) What is the variance for Y?\n",
        "var_y = np.var(Y)\n",
        "print(f\"variance for y is {var_y}\")\n"
      ],
      "execution_count": 9,
      "outputs": [
        {
          "output_type": "stream",
          "text": [
            " mean is 71.45, median is 71.5, mode is [74], variance is 13.847500000000002\n",
            "variance for y is 1369.2099999999998\n"
          ],
          "name": "stdout"
        }
      ]
    },
    {
      "cell_type": "code",
      "metadata": {
        "id": "gjArgMSMEBxw",
        "colab_type": "code",
        "colab": {}
      },
      "source": [
        "arr=[]\n",
        "for i in X:\n",
        "  arr.append((i-mean)/sigma)"
      ],
      "execution_count": 0,
      "outputs": []
    },
    {
      "cell_type": "code",
      "metadata": {
        "id": "ds2o0psV1s9l",
        "colab_type": "code",
        "colab": {
          "base_uri": "https://localhost:8080/",
          "height": 265
        },
        "outputId": "c91d9e41-f953-420b-cdd5-413d560ae224"
      },
      "source": [
        " #Plot the normal distribution for X. \n",
        " import matplotlib.pyplot as plt\n",
        " import math\n",
        " sigma = math.sqrt(var)\n",
        " x1 = min(X)\n",
        " x2 = max(X)\n",
        " z1 = (x1-mean)/sigma\n",
        " z2 = (x2-mean)/sigma\n",
        " x = np.arange(z1, z2, 0.001)\n",
        " y = stats.norm.pdf(x,0,1)\n",
        " plt.plot(x,y)\n",
        " plt.show()\n"
      ],
      "execution_count": 39,
      "outputs": [
        {
          "output_type": "display_data",
          "data": {
            "image/png": "[encoded data removed]",
            "text/plain": [
              "<Figure size 432x288 with 1 Axes>"
            ]
          },
          "metadata": {
            "tags": [],
            "needs_background": "light"
          }
        }
      ]
    },
    {
      "cell_type": "code",
      "metadata": {
        "id": "z9KYrpphESJO",
        "colab_type": "code",
        "colab": {
          "base_uri": "https://localhost:8080/",
          "height": 36
        },
        "outputId": "44673266-8d92-4d55-e2bb-9779049b1ff9"
      },
      "source": [
        "#What is the probability of observing an age of 80 or higher?\n",
        "p= sum([1 for i in Y if i>=80])/len(Y)\n",
        "print(f\"probability of observing an age of 80 or higher {p}\")"
      ],
      "execution_count": 40,
      "outputs": [
        {
          "output_type": "stream",
          "text": [
            "probability of observing an age of 80 or higher 1.0\n"
          ],
          "name": "stdout"
        }
      ]
    },
    {
      "cell_type": "code",
      "metadata": {
        "id": "gdr1QR9EEymr",
        "colab_type": "code",
        "colab": {
          "base_uri": "https://localhost:8080/",
          "height": 73
        },
        "outputId": "5ad3d5eb-1486-48c1-b81e-27894270a6f8"
      },
      "source": [
        "#Find the 2-dimensional mean ˆ µ and the covariance matrix b 6 for these two variables\n",
        "mean_hat = np.array([np.mean(X), np.mean(Y)])\n",
        "print(f\"2 dimensional mean {mean_hat}\" )\n",
        "covar_hat = np.cov(X,Y)\n",
        "print(f\"2 dimensional covariance {covar_hat}\" )"
      ],
      "execution_count": 46,
      "outputs": [
        {
          "output_type": "stream",
          "text": [
            "2 dimensional mean [ 71.45 164.7 ]\n",
            "2 dimensional covariance [[  14.57631579  128.87894737]\n",
            " [ 128.87894737 1441.27368421]]\n"
          ],
          "name": "stdout"
        }
      ]
    },
    {
      "cell_type": "code",
      "metadata": {
        "id": "aiiBZw3oFcMt",
        "colab_type": "code",
        "colab": {
          "base_uri": "https://localhost:8080/",
          "height": 54
        },
        "outputId": "28106f0d-e047-433e-fce4-76bca594e45d"
      },
      "source": [
        "#what is correlation between age and weight\n",
        "corr_hat = np.corrcoef(X,Y)\n",
        "print(f\"correlation matrix {corr_hat}\")"
      ],
      "execution_count": 49,
      "outputs": [
        {
          "output_type": "stream",
          "text": [
            "correlation matrix [[1.         0.88917014]\n",
            " [0.88917014 1.        ]]\n"
          ],
          "name": "stdout"
        }
      ]
    },
    {
      "cell_type": "code",
      "metadata": {
        "id": "qm7Zoq6rILnp",
        "colab_type": "code",
        "colab": {
          "base_uri": "https://localhost:8080/",
          "height": 36
        },
        "outputId": "689de881-d0a8-498c-8ae0-653238625b4a"
      },
      "source": [
        "print(math.degrees(math.acos(0.88917014)))"
      ],
      "execution_count": 52,
      "outputs": [
        {
          "output_type": "stream",
          "text": [
            "27.23084840701777\n"
          ],
          "name": "stdout"
        }
      ]
    },
    {
      "cell_type": "code",
      "metadata": {
        "id": "ZGrr38xRHbKZ",
        "colab_type": "code",
        "colab": {
          "base_uri": "https://localhost:8080/",
          "height": 265
        },
        "outputId": "04089ed5-1690-4fd2-cf6b-ef51b24cca01"
      },
      "source": [
        " #Draw a scatterplot to show the relationship between age and weight\n",
        " plt.figure()\n",
        " plt.scatter(X,Y)\n",
        " plt.show()"
      ],
      "execution_count": 50,
      "outputs": [
        {
          "output_type": "display_data",
          "data": {
            "image/png": "[encoded data removed]",
            "text/plain": [
              "<Figure size 432x288 with 1 Axes>"
            ]
          },
          "metadata": {
            "tags": [],
            "needs_background": "light"
          }
        }
      ]
    },
    {
      "cell_type": "code",
      "metadata": {
        "id": "Ku2NelyLLfQk",
        "colab_type": "code",
        "colab": {}
      },
      "source": [
        ""
      ],
      "execution_count": 0,
      "outputs": []
    }
  ]
}