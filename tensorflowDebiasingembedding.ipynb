{
  "nbformat": 4,
  "nbformat_minor": 0,
  "metadata": {
    "colab": {
      "name": "tensorflowDebiasingembedding.ipynb",
      "provenance": [],
      "collapsed_sections": [],
      "authorship_tag": "ABX9TyMvZehJiVu6CntHhOlFgiiz",
      "include_colab_link": true
    },
    "kernelspec": {
      "name": "python3",
      "display_name": "Python 3"
    },
    "accelerator": "GPU"
  },
  "cells": [
    {
      "cell_type": "markdown",
      "metadata": {
        "id": "view-in-github",
        "colab_type": "text"
      },
      "source": [
        "<a href=\"https://colab.research.google.com/github/harshdsdh/MLstuff/blob/master/tensorflowDebiasingembedding.ipynb\" target=\"_parent\"><img src=\"https://colab.research.google.com/assets/colab-badge.svg\" alt=\"Open In Colab\"/></a>"
      ]
    },
    {
      "cell_type": "code",
      "metadata": {
        "id": "2yM9kzk-_7vr",
        "colab_type": "code",
        "colab": {}
      },
      "source": [
        "#create dataset of all labelled words\n",
        "import pandas as pd\n",
        "import numpy as np\n",
        "%tensorflow_version 2.x\n",
        "import tensorflow as tf\n",
        "import IPython\n",
        "import functools\n",
        "import matplotlib.pyplot as plt\n",
        "from tqdm import tqdm"
      ],
      "execution_count": 0,
      "outputs": []
    },
    {
      "cell_type": "code",
      "metadata": {
        "id": "vGJSMfgMB76M",
        "colab_type": "code",
        "colab": {}
      },
      "source": [
        "from gensim.models import KeyedVectors"
      ],
      "execution_count": 0,
      "outputs": []
    },
    {
      "cell_type": "code",
      "metadata": {
        "id": "2HQzrrNZDUFC",
        "colab_type": "code",
        "colab": {
          "base_uri": "https://localhost:8080/",
          "height": 74
        },
        "outputId": "f61984df-b0c0-4567-8416-c36c2eb1884e"
      },
      "source": [
        "emb = KeyedVectors.load_word2vec_format('glove.txt')"
      ],
      "execution_count": 8,
      "outputs": [
        {
          "output_type": "stream",
          "text": [
            "/usr/local/lib/python3.6/dist-packages/smart_open/smart_open_lib.py:253: UserWarning: This function is deprecated, use smart_open.open instead. See the migration notes for details: https://github.com/RaRe-Technologies/smart_open/blob/master/README.rst#migrating-to-the-new-open-function\n",
            "  'See the migration notes for details: %s' % _MIGRATION_NOTES_URL\n"
          ],
          "name": "stderr"
        }
      ]
    },
    {
      "cell_type": "code",
      "metadata": {
        "id": "A446KNgFCJrK",
        "colab_type": "code",
        "colab": {}
      },
      "source": [
        "def make_gender_words_set(f,emb):\n",
        "  df = pd.read_csv(f)\n",
        "  f_words = df.iloc[:,0].values.tolist()\n",
        "  m_words = df.iloc[:,1].values.tolist()\n",
        "  return f_words,m_words"
      ],
      "execution_count": 0,
      "outputs": []
    },
    {
      "cell_type": "code",
      "metadata": {
        "id": "EHJyBzOFMsMq",
        "colab_type": "code",
        "colab": {}
      },
      "source": [
        "def make_stereotype_words_set(f,emb):\n",
        "  df = pd.read_csv(f,sep='\\t')\n",
        "  f_words = df.iloc[:,0].values.tolist()\n",
        "  m_words = df.iloc[:,1].values.tolist()\n",
        "  return f_words,m_words"
      ],
      "execution_count": 0,
      "outputs": []
    },
    {
      "cell_type": "code",
      "metadata": {
        "id": "o78frT5qNSEH",
        "colab_type": "code",
        "colab": {}
      },
      "source": [
        "def make_no_gender_words_set(f,emb):\n",
        "  df = pd.read_csv(f,sep='\\t')\n",
        "  w = df.iloc[:,0].values.tolist()\n",
        "  return w"
      ],
      "execution_count": 0,
      "outputs": []
    },
    {
      "cell_type": "code",
      "metadata": {
        "id": "F3hzdp4GGGoz",
        "colab_type": "code",
        "colab": {}
      },
      "source": [
        "f,m = make_gender_words_set('gender_pair.csv',emb)\n",
        "arr=[]\n",
        "arr+=f\n",
        "arr+=m\n",
        "arr=[i for i in arr if i in emb]\n",
        "label = [1 for i in range(len(arr))]\n",
        "data = [[i,v] for i,v in zip(arr,label)]\n",
        "main_df = pd.DataFrame(data,columns=['words','labels'])"
      ],
      "execution_count": 0,
      "outputs": []
    },
    {
      "cell_type": "code",
      "metadata": {
        "id": "q885b3LpNP27",
        "colab_type": "code",
        "colab": {}
      },
      "source": [
        ""
      ],
      "execution_count": 0,
      "outputs": []
    },
    {
      "cell_type": "code",
      "metadata": {
        "id": "Wjx11kFQHxVz",
        "colab_type": "code",
        "colab": {
          "base_uri": "https://localhost:8080/",
          "height": 279
        },
        "outputId": "e5540814-53d6-41b2-ec4a-ac1a2cb75f3a"
      },
      "source": [
        "print(main_df)"
      ],
      "execution_count": 71,
      "outputs": [
        {
          "output_type": "stream",
          "text": [
            "           words  labels\n",
            "0        witches       1\n",
            "1    maidservant       1\n",
            "2        mothers       1\n",
            "3           diva       1\n",
            "4        actress       1\n",
            "..           ...     ...\n",
            "388    paternity       1\n",
            "389     roosters       1\n",
            "390      priests       1\n",
            "391       busboy       1\n",
            "392        heros       1\n",
            "\n",
            "[393 rows x 2 columns]\n"
          ],
          "name": "stdout"
        }
      ]
    },
    {
      "cell_type": "code",
      "metadata": {
        "id": "dLcrYQn8L12J",
        "colab_type": "code",
        "colab": {}
      },
      "source": [
        "f,m = make_stereotype_words_set('stereotype_list.tsv',emb)\n",
        "arr=[]\n",
        "arr+=f\n",
        "arr+=m\n",
        "arr=[i for i in arr if i in emb]\n",
        "label = [0 for i in range(len(arr))]\n",
        "data = [[i,v] for i,v in zip(arr,label)]\n",
        "main_df1 = pd.DataFrame(data,columns=['words','labels'])"
      ],
      "execution_count": 0,
      "outputs": []
    },
    {
      "cell_type": "code",
      "metadata": {
        "id": "CA91F9kCM3oU",
        "colab_type": "code",
        "colab": {
          "base_uri": "https://localhost:8080/",
          "height": 279
        },
        "outputId": "433a388c-fe7f-46f2-e4dc-ab1f8dc2095a"
      },
      "source": [
        "print(main_df1)"
      ],
      "execution_count": 76,
      "outputs": [
        {
          "output_type": "stream",
          "text": [
            "         words  labels\n",
            "0      apparel       0\n",
            "1    assistant       0\n",
            "2        baker       0\n",
            "3      bathing       0\n",
            "4    beautiful       0\n",
            "..         ...     ...\n",
            "161    science       0\n",
            "162  scientist       0\n",
            "163   sculptor       0\n",
            "164       blue       0\n",
            "165   football       0\n",
            "\n",
            "[166 rows x 2 columns]\n"
          ],
          "name": "stdout"
        }
      ]
    },
    {
      "cell_type": "code",
      "metadata": {
        "id": "eQw5OURwNJ_U",
        "colab_type": "code",
        "colab": {}
      },
      "source": [
        "w = make_no_gender_words_set('no_gender_list.tsv',emb)\n",
        "arr=[]\n",
        "arr+=w\n",
        "arr=[i for i in arr if i in emb]\n",
        "label = [0 for i in range(len(arr))]\n",
        "data = [[i,v] for i,v in zip(arr,label)]\n",
        "main_df2 = pd.DataFrame(data,columns=['words','labels'])"
      ],
      "execution_count": 0,
      "outputs": []
    },
    {
      "cell_type": "code",
      "metadata": {
        "id": "qlWQ8NjINhTx",
        "colab_type": "code",
        "colab": {
          "base_uri": "https://localhost:8080/",
          "height": 279
        },
        "outputId": "df1cf49e-9e95-4fc5-ad74-5fa88e9a4ef6"
      },
      "source": [
        "print(main_df2)"
      ],
      "execution_count": 81,
      "outputs": [
        {
          "output_type": "stream",
          "text": [
            "          words  labels\n",
            "0         abate       0\n",
            "1      aberrant       0\n",
            "2       abiding       0\n",
            "3          able       0\n",
            "4     abolition       0\n",
            "...         ...     ...\n",
            "1025    younger       0\n",
            "1026   youngest       0\n",
            "1027       zero       0\n",
            "1028     zigzag       0\n",
            "1029       zone       0\n",
            "\n",
            "[1030 rows x 2 columns]\n"
          ],
          "name": "stdout"
        }
      ]
    },
    {
      "cell_type": "code",
      "metadata": {
        "id": "BV-cl9s8NwqQ",
        "colab_type": "code",
        "colab": {
          "base_uri": "https://localhost:8080/",
          "height": 279
        },
        "outputId": "1dc09643-61e4-4004-d163-2128e5e4bd0b"
      },
      "source": [
        "frames=[main_df,main_df1,main_df2]\n",
        "df = pd.concat(frames)\n",
        "print(df)"
      ],
      "execution_count": 82,
      "outputs": [
        {
          "output_type": "stream",
          "text": [
            "            words  labels\n",
            "0         witches       1\n",
            "1     maidservant       1\n",
            "2         mothers       1\n",
            "3            diva       1\n",
            "4         actress       1\n",
            "...           ...     ...\n",
            "1025      younger       0\n",
            "1026     youngest       0\n",
            "1027         zero       0\n",
            "1028       zigzag       0\n",
            "1029         zone       0\n",
            "\n",
            "[1589 rows x 2 columns]\n"
          ],
          "name": "stdout"
        }
      ]
    },
    {
      "cell_type": "code",
      "metadata": {
        "id": "NahdxN6mOCPg",
        "colab_type": "code",
        "colab": {}
      },
      "source": [
        "df.to_csv('fresh_data.csv',header=True,index=False)"
      ],
      "execution_count": 0,
      "outputs": []
    },
    {
      "cell_type": "code",
      "metadata": {
        "id": "BP8VrGm8ZaTb",
        "colab_type": "code",
        "colab": {
          "base_uri": "https://localhost:8080/",
          "height": 279
        },
        "outputId": "bbc7fbb0-c5cb-4b70-fbcd-d8f11e582ec4"
      },
      "source": [
        "df = df.sample(frac=1)\n",
        "print(df)"
      ],
      "execution_count": 95,
      "outputs": [
        {
          "output_type": "stream",
          "text": [
            "           words  labels\n",
            "257     chairmen       1\n",
            "1018       wound       0\n",
            "29           nun       1\n",
            "165     brighter       0\n",
            "298       danger       0\n",
            "...          ...     ...\n",
            "164         blue       0\n",
            "627      meeting       0\n",
            "266   comparison       0\n",
            "140        blast       0\n",
            "953          try       0\n",
            "\n",
            "[1589 rows x 2 columns]\n"
          ],
          "name": "stdout"
        }
      ]
    },
    {
      "cell_type": "code",
      "metadata": {
        "id": "6VVWO93LQ-j8",
        "colab_type": "code",
        "colab": {}
      },
      "source": [
        "all_words = df['words']\n",
        "word2emb={}\n",
        "for word in all_words:\n",
        "    word2emb[word] = emb[word]"
      ],
      "execution_count": 0,
      "outputs": []
    },
    {
      "cell_type": "code",
      "metadata": {
        "id": "2J0Ov2VWtG2l",
        "colab_type": "code",
        "colab": {
          "base_uri": "https://localhost:8080/",
          "height": 1000
        },
        "outputId": "46c9f9a5-3305-4824-fad7-690c2d5c32e9"
      },
      "source": [
        "word2emb['blast']"
      ],
      "execution_count": 203,
      "outputs": [
        {
          "output_type": "execute_result",
          "data": {
            "text/plain": [
              "array([ 1.155490e-01,  3.137470e-01,  5.241530e-01, -3.072210e-01,\n",
              "       -2.074770e-01,  4.851020e-01, -7.411300e-02, -5.476100e-02,\n",
              "        2.460000e-02, -4.864780e-01,  2.019200e-01, -1.488760e-01,\n",
              "        2.969410e-01, -9.146400e-02, -1.593760e-01, -2.245730e-01,\n",
              "        3.117800e-02,  4.950150e-01,  5.012000e-02,  2.196230e-01,\n",
              "        4.648000e-02,  7.991000e-03, -3.802820e-01,  1.976080e-01,\n",
              "        1.234250e-01,  3.156900e-01, -1.938230e-01,  3.464740e-01,\n",
              "       -3.294070e-01, -3.525920e-01,  6.070920e-01, -1.784900e-02,\n",
              "        3.816130e-01,  2.621620e-01,  6.975900e-02,  5.848450e-01,\n",
              "        1.653330e-01, -1.349070e-01,  3.458040e-01,  2.179860e-01,\n",
              "       -1.126390e-01, -4.273750e-01,  8.023800e-02, -4.558480e-01,\n",
              "        3.733400e-02,  7.910000e-03,  5.140000e-02,  5.438860e-01,\n",
              "        2.415340e-01,  6.226760e-01, -3.707200e-02, -5.490730e-01,\n",
              "        2.783450e-01,  1.764550e-01, -3.149470e-01, -3.753100e-02,\n",
              "        4.445100e-01, -2.183390e-01,  5.527000e-02, -1.573710e-01,\n",
              "        4.374000e-03,  1.666200e-02,  1.241370e-01, -3.389370e-01,\n",
              "       -2.678290e-01, -2.320640e-01, -2.904700e-01, -5.295150e-01,\n",
              "        4.620660e-01,  6.661700e-02,  8.800380e-01,  8.559080e-01,\n",
              "        7.622800e-02,  4.715950e-01, -1.243700e-02, -2.549720e-01,\n",
              "        3.683930e-01,  4.859040e-01, -3.572890e-01,  1.419760e-01,\n",
              "       -1.550360e-01,  3.707900e-02, -3.478220e-01, -6.689290e-01,\n",
              "       -1.241100e-01, -2.947470e-01,  2.881760e-01, -2.988770e-01,\n",
              "       -5.664660e-01, -2.536300e-02,  1.113567e+00,  3.513510e-01,\n",
              "        2.194180e-01,  2.321540e-01, -6.844500e-02, -4.148920e-01,\n",
              "        1.501130e-01,  3.133770e-01,  4.486900e-02, -2.973740e-01,\n",
              "        2.783090e-01, -6.348730e-01,  7.911000e-02,  2.016560e-01,\n",
              "        7.457900e-02,  8.488750e-01,  2.568880e-01, -3.343370e-01,\n",
              "       -4.350520e-01, -1.443130e-01,  4.901370e-01,  2.976680e-01,\n",
              "        7.212000e-02,  1.291750e-01, -3.068820e-01, -1.488770e-01,\n",
              "       -1.895360e-01, -1.425000e-02,  2.154440e-01,  3.748880e-01,\n",
              "       -2.853020e-01,  1.490000e-02, -3.114880e-01,  1.724520e-01,\n",
              "       -1.760680e-01, -3.642840e-01,  2.100990e-01, -8.014300e-02,\n",
              "        2.732220e-01, -5.996700e-02, -2.898960e-01, -5.989900e-02,\n",
              "       -3.297610e-01,  2.575330e-01, -7.404100e-02,  3.837960e-01,\n",
              "       -1.868500e-02, -3.724900e-02,  3.789130e-01, -2.858100e-01,\n",
              "       -9.853210e-01, -3.347600e-01,  2.964910e-01, -3.788940e-01,\n",
              "       -1.619860e-01, -5.975410e-01, -2.332540e-01,  1.037494e+00,\n",
              "       -5.706650e-01,  7.076690e-01,  3.313830e-01, -5.098600e-01,\n",
              "        1.335740e-01,  1.970950e-01, -4.445000e-03,  8.810000e-02,\n",
              "       -4.359440e-01,  4.517240e-01,  1.905950e-01,  1.429480e-01,\n",
              "        8.085200e-02,  3.414730e-01,  5.002270e-01, -1.464410e-01,\n",
              "       -4.041700e-01, -2.252510e-01, -1.675000e-02,  7.257600e-02,\n",
              "       -5.860420e-01,  9.435100e-02, -3.458700e-02,  1.940780e-01,\n",
              "        1.471850e-01,  3.777590e-01, -1.281760e-01,  6.060500e-02,\n",
              "       -3.108090e-01, -5.209890e-01,  1.896480e-01,  3.288070e-01,\n",
              "       -1.265670e-01,  2.318070e-01, -2.838790e-01,  3.986900e-02,\n",
              "        4.492490e-01, -1.337872e+00, -5.582340e-01, -5.198370e-01,\n",
              "        5.567980e-01, -2.233840e-01, -1.990060e-01, -1.337070e-01,\n",
              "        1.578600e-01,  5.074080e-01, -5.176000e-01,  4.808090e-01,\n",
              "       -5.618640e-01,  2.128880e-01, -3.971020e-01, -4.673490e-01,\n",
              "       -3.605570e-01, -4.162480e-01,  6.930000e-04,  4.846040e-01,\n",
              "       -7.562600e-02,  1.722620e-01,  4.316050e-01, -5.078070e-01,\n",
              "        2.496020e-01,  2.051140e-01, -2.919580e-01,  2.937810e-01,\n",
              "       -7.694330e-01,  5.970410e-01, -9.457000e-02, -6.624300e-02,\n",
              "        2.165850e-01,  4.174050e-01, -1.857800e-02,  1.529090e-01,\n",
              "        2.326190e-01,  9.085300e-02,  1.998090e-01,  1.880200e-02,\n",
              "        1.536130e-01, -1.777770e-01,  7.251000e-02, -9.100000e-05,\n",
              "        3.137930e-01,  7.535500e-02, -2.086650e-01,  4.682540e-01,\n",
              "       -1.506650e-01, -7.615280e-01, -2.730360e-01,  2.870610e-01,\n",
              "        6.485200e-02,  4.802070e-01,  3.375260e-01,  4.248580e-01,\n",
              "       -2.979380e-01,  2.002560e-01,  5.785500e-02,  2.936740e-01,\n",
              "       -2.887860e-01, -1.653670e-01, -1.821350e-01,  1.231160e-01,\n",
              "        1.209160e-01,  4.555120e-01,  1.167480e-01,  6.376300e-02,\n",
              "       -5.924390e-01,  5.115430e-01,  1.315730e-01,  1.131180e-01,\n",
              "        1.214030e-01,  4.464420e-01,  1.293200e-01, -7.356400e-02,\n",
              "       -8.009900e-01,  3.334220e-01,  6.617600e-02, -2.644520e-01,\n",
              "       -4.918880e-01,  1.055640e-01, -4.170940e-01,  1.743070e-01,\n",
              "        6.160920e-01, -2.612510e-01,  1.852000e-01,  2.417560e-01,\n",
              "        4.974830e-01, -1.335600e-01,  2.541480e-01,  4.449560e-01,\n",
              "        2.470180e-01,  3.039310e-01, -5.077300e-02,  4.263900e-02,\n",
              "        8.598030e-01, -3.120680e-01,  2.502700e-01,  2.095030e-01,\n",
              "       -5.029820e-01, -1.583980e-01,  5.337400e-02,  4.784970e-01,\n",
              "        1.665780e-01,  3.301760e-01, -1.631200e-02, -2.836040e-01,\n",
              "       -2.574370e-01, -3.018840e-01,  4.832000e-02,  4.850410e-01,\n",
              "       -3.960510e-01,  7.955100e-02,  3.736120e-01, -1.446890e-01],\n",
              "      dtype=float32)"
            ]
          },
          "metadata": {
            "tags": []
          },
          "execution_count": 203
        }
      ]
    },
    {
      "cell_type": "code",
      "metadata": {
        "id": "sqi4ssPrVOLp",
        "colab_type": "code",
        "colab": {
          "base_uri": "https://localhost:8080/",
          "height": 36
        },
        "outputId": "116017a4-1730-4455-cfcc-3c662ec02a80"
      },
      "source": [
        "vocab_size = len(all_words)\n",
        "print(vocab_size)"
      ],
      "execution_count": 120,
      "outputs": [
        {
          "output_type": "stream",
          "text": [
            "1589\n"
          ],
          "name": "stdout"
        }
      ]
    },
    {
      "cell_type": "code",
      "metadata": {
        "id": "ZD3oqHyrcCZd",
        "colab_type": "code",
        "colab": {
          "base_uri": "https://localhost:8080/",
          "height": 36
        },
        "outputId": "725e0db5-090c-4d8c-9db9-efb8ae137642"
      },
      "source": [
        "for i,v in word2emb.items():\n",
        "  print(len(v))\n",
        "  break"
      ],
      "execution_count": 98,
      "outputs": [
        {
          "output_type": "stream",
          "text": [
            "300\n"
          ],
          "name": "stdout"
        }
      ]
    },
    {
      "cell_type": "code",
      "metadata": {
        "id": "Qlxd76_kcU7X",
        "colab_type": "code",
        "colab": {}
      },
      "source": [
        "[word2emb[df.iloc[idx]['words']] for idx in range(4)]"
      ],
      "execution_count": 0,
      "outputs": []
    },
    {
      "cell_type": "code",
      "metadata": {
        "id": "JmkMPUmcYta_",
        "colab_type": "code",
        "colab": {}
      },
      "source": [
        "def get_batch(df,word2emb,batch_size):\n",
        "  inds_x = [i for i in range(vocab_size)]\n",
        "  selected_inds = np.random.choice(inds_x, size = batch_size)\n",
        "  sorted_inds = sorted(selected_inds)\n",
        "  train_x = [word2emb[df.iloc[idx]['words']] for idx in sorted_inds]\n",
        "  train_y = [df.iloc[idx]['labels'] for idx in sorted_inds]\n",
        "  x_b = np.reshape(train_x,[batch_size,300])\n",
        "  y_b= np.reshape(train_y,[batch_size,1])\n",
        "  return (x_b,y_b)\n"
      ],
      "execution_count": 0,
      "outputs": []
    },
    {
      "cell_type": "code",
      "metadata": {
        "id": "6O67GQ7BXF7w",
        "colab_type": "code",
        "colab": {}
      },
      "source": [
        "x_batch, y_batch = get_batch(df, word2emb, batch_size=4)"
      ],
      "execution_count": 0,
      "outputs": []
    },
    {
      "cell_type": "code",
      "metadata": {
        "id": "P021E__xhQdO",
        "colab_type": "code",
        "colab": {
          "base_uri": "https://localhost:8080/",
          "height": 92
        },
        "outputId": "70d54f20-89e3-483a-b579-54b04615a6e1"
      },
      "source": [
        "y_batch"
      ],
      "execution_count": 212,
      "outputs": [
        {
          "output_type": "execute_result",
          "data": {
            "text/plain": [
              "array([[0],\n",
              "       [0],\n",
              "       [0],\n",
              "       [0]])"
            ]
          },
          "metadata": {
            "tags": []
          },
          "execution_count": 212
        }
      ]
    },
    {
      "cell_type": "code",
      "metadata": {
        "id": "FaIiSmmKOWy3",
        "colab_type": "code",
        "colab": {}
      },
      "source": [
        "emb_size=300\n",
        "\n",
        "def make_standard_encoder(n_outputs=1):\n",
        "  vocab_size = 1589+1\n",
        "  emb_size=300\n",
        "  batch_size=4\n",
        "  model = tf.keras.Sequential([\n",
        "           tf.keras.layers.Dense(emb_size,input_shape=(4,300),activation='relu',dtype='float32'),\n",
        "           tf.keras.layers.Dense(emb_size,activation='relu'),\n",
        "           tf.keras.layers.Dense(n_outputs),\n",
        "  ])\n",
        "  return model\n",
        "sc= make_standard_encoder()"
      ],
      "execution_count": 0,
      "outputs": []
    },
    {
      "cell_type": "code",
      "metadata": {
        "id": "wG3igYjPlOWx",
        "colab_type": "code",
        "colab": {
          "base_uri": "https://localhost:8080/",
          "height": 279
        },
        "outputId": "f887d592-a789-4a0f-ba38-cfed3e8d17db"
      },
      "source": [
        "sc.summary()"
      ],
      "execution_count": 215,
      "outputs": [
        {
          "output_type": "stream",
          "text": [
            "Model: \"sequential_17\"\n",
            "_________________________________________________________________\n",
            "Layer (type)                 Output Shape              Param #   \n",
            "=================================================================\n",
            "dense_37 (Dense)             (None, 4, 300)            90300     \n",
            "_________________________________________________________________\n",
            "dense_38 (Dense)             (None, 4, 300)            90300     \n",
            "_________________________________________________________________\n",
            "dense_39 (Dense)             (None, 4, 1)              301       \n",
            "=================================================================\n",
            "Total params: 180,901\n",
            "Trainable params: 180,901\n",
            "Non-trainable params: 0\n",
            "_________________________________________________________________\n"
          ],
          "name": "stdout"
        }
      ]
    },
    {
      "cell_type": "code",
      "metadata": {
        "id": "5xSPY2ultCDM",
        "colab_type": "code",
        "colab": {
          "base_uri": "https://localhost:8080/",
          "height": 971
        },
        "outputId": "39baa9e3-6a12-4cf6-8dc8-9686a528bb37"
      },
      "source": [
        "x_batch[0]"
      ],
      "execution_count": 197,
      "outputs": [
        {
          "output_type": "execute_result",
          "data": {
            "text/plain": [
              "array([ 0.361572, -0.32764 , -0.121619, -0.333029, -0.835748, -0.241483,\n",
              "       -0.267943,  0.102412,  0.475686,  0.668341, -0.314658, -0.596146,\n",
              "       -0.305112, -0.358897, -0.07791 , -0.002601,  0.075599,  0.32295 ,\n",
              "        0.355335,  0.614285, -0.658294, -0.044071,  0.083704,  0.144311,\n",
              "        0.022276,  0.370851, -0.004913,  0.189738,  0.336325, -0.299981,\n",
              "        0.193976, -0.473404,  0.532159, -0.028713, -0.356244,  0.332024,\n",
              "        0.129192, -0.098207, -0.633016, -0.58662 ,  0.590908,  0.114909,\n",
              "       -0.078506,  0.184477, -0.532621,  0.406066, -0.153006,  0.152474,\n",
              "        0.335604, -0.328165,  0.110117,  0.377287, -0.066352,  0.104374,\n",
              "       -0.218475, -0.012415, -0.384971, -0.220526, -0.374932, -0.225709,\n",
              "       -0.072646, -0.171626, -0.277433,  0.019069, -0.316737, -0.070353,\n",
              "       -0.629686, -0.273949,  0.152595,  0.615744, -0.737369, -0.372878,\n",
              "        0.24441 ,  0.413418, -0.21138 , -0.173993,  0.25742 , -0.032344,\n",
              "       -0.189323,  0.656813,  0.233036,  0.045089,  0.60598 ,  0.252842,\n",
              "       -0.432792, -0.142865,  0.246707,  0.116413,  0.012398, -0.618389,\n",
              "        0.269076,  0.677884,  0.059973, -0.31887 , -0.398515,  0.230611,\n",
              "       -0.556934, -0.012229,  0.480402,  0.032452, -0.209573, -0.087776,\n",
              "        0.524891, -0.069042, -0.154684, -0.070162,  0.01329 , -0.064951,\n",
              "       -0.923973,  0.199131, -0.050692, -0.111047, -0.063416,  0.093006,\n",
              "        0.528781,  0.013225, -0.215765,  0.340964,  0.032632,  0.149987,\n",
              "       -0.067065,  0.064392, -0.412034,  0.269341, -0.059707, -0.384441,\n",
              "        0.038122, -0.234538,  0.095327,  0.174532, -0.231677,  0.192954,\n",
              "        0.447581,  0.089585,  0.155575,  0.011131,  0.182093,  0.160973,\n",
              "        0.250333,  0.155871,  0.384489, -0.228806,  0.6803  ,  0.031594,\n",
              "       -0.59856 ,  0.863045,  0.014052, -0.054109,  0.189893,  0.90426 ,\n",
              "        0.413491, -0.172957, -0.145105,  0.460544, -0.342306,  0.231121,\n",
              "       -0.010618, -0.100681, -0.254379, -0.070837,  0.401985,  0.425477,\n",
              "       -0.236971, -0.350452, -0.118726, -0.36802 , -0.115071,  0.186142,\n",
              "        0.234235,  0.329508,  0.086048, -0.084524, -0.009984, -0.437364,\n",
              "        0.092858, -0.273495, -0.005224, -0.072513,  0.646884, -0.385356,\n",
              "        0.63514 , -0.144803, -0.311882,  0.056965, -0.216676, -2.264746,\n",
              "        0.298669,  0.736251, -0.123362,  0.028073,  0.228821, -0.205083,\n",
              "        0.190226, -0.068806,  0.546324, -0.105216, -0.005574, -0.084559,\n",
              "        0.55033 , -0.340817,  0.197682, -0.259718,  0.711445, -0.135505,\n",
              "        0.223825,  0.095749,  0.136827,  0.012722,  0.345646,  0.685439,\n",
              "        0.59392 , -0.597365, -0.123   , -0.126131,  0.452703, -0.189907,\n",
              "        0.37046 ,  0.149262,  0.114881,  0.666309, -0.225386, -0.058679,\n",
              "        0.369144,  0.322776, -0.083884, -0.369651,  0.307926, -0.07509 ,\n",
              "        0.565389,  0.081559, -0.036051,  0.08853 ,  0.484119, -0.637375,\n",
              "       -0.08645 ,  0.084155,  0.386824, -0.566386, -0.268532,  0.409441,\n",
              "       -0.094881, -0.119768, -0.458711,  0.11527 , -0.563082,  0.318991,\n",
              "        0.187928,  0.302785, -0.192648, -0.075913,  0.040255,  0.368577,\n",
              "       -0.514252,  0.062978,  0.257046, -0.384666, -0.127632,  0.128447,\n",
              "        0.282387, -0.334851,  0.370727, -0.521253, -0.01837 , -0.308056,\n",
              "       -0.386183, -0.279976,  0.344575,  0.421884, -0.096172, -0.166505,\n",
              "       -0.195335,  0.358954,  0.205917,  0.36904 ,  0.332581, -0.049333,\n",
              "        0.41995 , -0.091344, -0.09144 ,  0.294526,  0.187819, -0.105705,\n",
              "        0.772971, -0.315995, -0.480441, -0.432203, -0.449927,  0.256113,\n",
              "        0.122147,  0.18232 , -0.46105 , -0.192647, -0.408296,  0.266906,\n",
              "       -0.597516, -0.295435, -0.103986,  0.121751,  0.210292, -0.036758],\n",
              "      dtype=float32)"
            ]
          },
          "metadata": {
            "tags": []
          },
          "execution_count": 197
        }
      ]
    },
    {
      "cell_type": "code",
      "metadata": {
        "id": "jbNru6uVs2M2",
        "colab_type": "code",
        "colab": {
          "base_uri": "https://localhost:8080/",
          "height": 56
        },
        "outputId": "3e4b1ef1-4917-4b62-dd61-fa51b5a52179"
      },
      "source": [
        "pred = sc(x_batch)"
      ],
      "execution_count": 218,
      "outputs": [
        {
          "output_type": "stream",
          "text": [
            "WARNING:tensorflow:Model was constructed with shape (None, 4, 300) for input Tensor(\"dense_37_input:0\", shape=(None, 4, 300), dtype=float32), but it was called on an input with incompatible shape (4, 300).\n"
          ],
          "name": "stdout"
        }
      ]
    },
    {
      "cell_type": "code",
      "metadata": {
        "id": "Sjzrz-mrxekV",
        "colab_type": "code",
        "colab": {
          "base_uri": "https://localhost:8080/",
          "height": 111
        },
        "outputId": "ca0d324d-32dd-46fb-fe66-629112a271de"
      },
      "source": [
        "pred"
      ],
      "execution_count": 219,
      "outputs": [
        {
          "output_type": "execute_result",
          "data": {
            "text/plain": [
              "<tf.Tensor: shape=(4, 1), dtype=float32, numpy=\n",
              "array([[0.19575174],\n",
              "       [0.07709941],\n",
              "       [0.25706697],\n",
              "       [0.7948129 ]], dtype=float32)>"
            ]
          },
          "metadata": {
            "tags": []
          },
          "execution_count": 219
        }
      ]
    },
    {
      "cell_type": "code",
      "metadata": {
        "id": "ggsPysAWzOUd",
        "colab_type": "code",
        "colab": {
          "base_uri": "https://localhost:8080/",
          "height": 111
        },
        "outputId": "4896cb7b-4bf0-4df7-ef6c-1c8acb750039"
      },
      "source": [
        "a = tf.constant(y_batch,dtype='float32')     \n",
        "a"
      ],
      "execution_count": 226,
      "outputs": [
        {
          "output_type": "execute_result",
          "data": {
            "text/plain": [
              "<tf.Tensor: shape=(4, 1), dtype=float32, numpy=\n",
              "array([[0.],\n",
              "       [0.],\n",
              "       [0.],\n",
              "       [0.]], dtype=float32)>"
            ]
          },
          "metadata": {
            "tags": []
          },
          "execution_count": 226
        }
      ]
    },
    {
      "cell_type": "code",
      "metadata": {
        "id": "lAyBkr5OyZRo",
        "colab_type": "code",
        "colab": {
          "base_uri": "https://localhost:8080/",
          "height": 36
        },
        "outputId": "e66daa39-9a96-4d5a-ceff-fbf011446a9c"
      },
      "source": [
        "type(y_batch[0])"
      ],
      "execution_count": 222,
      "outputs": [
        {
          "output_type": "execute_result",
          "data": {
            "text/plain": [
              "numpy.ndarray"
            ]
          },
          "metadata": {
            "tags": []
          },
          "execution_count": 222
        }
      ]
    },
    {
      "cell_type": "code",
      "metadata": {
        "id": "ZuaCse2rj4gH",
        "colab_type": "code",
        "colab": {
          "base_uri": "https://localhost:8080/",
          "height": 467
        },
        "outputId": "d5280c25-8c79-429c-d97f-62c541b4ccde"
      },
      "source": [
        "pip install livelossplot"
      ],
      "execution_count": 133,
      "outputs": [
        {
          "output_type": "stream",
          "text": [
            "Collecting livelossplot\n",
            "  Downloading https://files.pythonhosted.org/packages/7c/e4/a7884b57113dfe84d3565418820feae7a20964438beb1088b2b08820ad94/livelossplot-0.5.0-py3-none-any.whl\n",
            "Requirement already satisfied: matplotlib; python_version >= \"3.6\" in /usr/local/lib/python3.6/dist-packages (from livelossplot) (3.2.1)\n",
            "Requirement already satisfied: ipython in /usr/local/lib/python3.6/dist-packages (from livelossplot) (5.5.0)\n",
            "Requirement already satisfied: python-dateutil>=2.1 in /usr/local/lib/python3.6/dist-packages (from matplotlib; python_version >= \"3.6\"->livelossplot) (2.8.1)\n",
            "Requirement already satisfied: numpy>=1.11 in /usr/local/lib/python3.6/dist-packages (from matplotlib; python_version >= \"3.6\"->livelossplot) (1.18.3)\n",
            "Requirement already satisfied: kiwisolver>=1.0.1 in /usr/local/lib/python3.6/dist-packages (from matplotlib; python_version >= \"3.6\"->livelossplot) (1.2.0)\n",
            "Requirement already satisfied: cycler>=0.10 in /usr/local/lib/python3.6/dist-packages (from matplotlib; python_version >= \"3.6\"->livelossplot) (0.10.0)\n",
            "Requirement already satisfied: pyparsing!=2.0.4,!=2.1.2,!=2.1.6,>=2.0.1 in /usr/local/lib/python3.6/dist-packages (from matplotlib; python_version >= \"3.6\"->livelossplot) (2.4.7)\n",
            "Requirement already satisfied: pexpect; sys_platform != \"win32\" in /usr/local/lib/python3.6/dist-packages (from ipython->livelossplot) (4.8.0)\n",
            "Requirement already satisfied: traitlets>=4.2 in /usr/local/lib/python3.6/dist-packages (from ipython->livelossplot) (4.3.3)\n",
            "Requirement already satisfied: pickleshare in /usr/local/lib/python3.6/dist-packages (from ipython->livelossplot) (0.7.5)\n",
            "Requirement already satisfied: decorator in /usr/local/lib/python3.6/dist-packages (from ipython->livelossplot) (4.4.2)\n",
            "Requirement already satisfied: setuptools>=18.5 in /usr/local/lib/python3.6/dist-packages (from ipython->livelossplot) (46.1.3)\n",
            "Requirement already satisfied: simplegeneric>0.8 in /usr/local/lib/python3.6/dist-packages (from ipython->livelossplot) (0.8.1)\n",
            "Requirement already satisfied: prompt-toolkit<2.0.0,>=1.0.4 in /usr/local/lib/python3.6/dist-packages (from ipython->livelossplot) (1.0.18)\n",
            "Requirement already satisfied: pygments in /usr/local/lib/python3.6/dist-packages (from ipython->livelossplot) (2.1.3)\n",
            "Requirement already satisfied: six>=1.5 in /usr/local/lib/python3.6/dist-packages (from python-dateutil>=2.1->matplotlib; python_version >= \"3.6\"->livelossplot) (1.12.0)\n",
            "Requirement already satisfied: ptyprocess>=0.5 in /usr/local/lib/python3.6/dist-packages (from pexpect; sys_platform != \"win32\"->ipython->livelossplot) (0.6.0)\n",
            "Requirement already satisfied: ipython-genutils in /usr/local/lib/python3.6/dist-packages (from traitlets>=4.2->ipython->livelossplot) (0.2.0)\n",
            "Requirement already satisfied: wcwidth in /usr/local/lib/python3.6/dist-packages (from prompt-toolkit<2.0.0,>=1.0.4->ipython->livelossplot) (0.1.9)\n",
            "Installing collected packages: livelossplot\n",
            "Successfully installed livelossplot-0.5.0\n"
          ],
          "name": "stdout"
        }
      ]
    },
    {
      "cell_type": "code",
      "metadata": {
        "id": "-WToZcbXsr3V",
        "colab_type": "code",
        "colab": {}
      },
      "source": [
        "pred = "
      ],
      "execution_count": 0,
      "outputs": []
    },
    {
      "cell_type": "code",
      "metadata": {
        "id": "ZVc4vMBPj-Ei",
        "colab_type": "code",
        "colab": {}
      },
      "source": [
        "from livelossplot import PlotLosses\n",
        "liveloss = PlotLosses()"
      ],
      "execution_count": 0,
      "outputs": []
    },
    {
      "cell_type": "code",
      "metadata": {
        "id": "M2pC-qVwiG5s",
        "colab_type": "code",
        "colab": {}
      },
      "source": [
        "num_epochs = 4  # keep small to run faster\n",
        "learning_rate = 5e-4\n",
        "batch_size =4\n",
        "optimizer = tf.keras.optimizers.Adam(learning_rate)\n",
        "l=[]\n",
        "@tf.function\n",
        "def standard_train_step(x,y):\n",
        "  with tf.GradientTape() as tape:\n",
        "    logits = sc(x)\n",
        "    loss = tf.nn.sigmoid_cross_entropy_with_logits(labels=y,logits=logits)\n",
        "  grads = tape.gradient(loss, sc.trainable_variables)\n",
        "  optimizer.apply_gradients(zip(grads,sc.trainable_variables))\n",
        "  return loss\n",
        "for epoch in range(num_epochs):\n",
        "  logs={}\n",
        "  for i in tqdm(range(vocab_size//batch_size)):\n",
        "    x,y = get_batch(df,word2emb,batch_size)\n",
        "    y = tf.constant(y,dtype='float32')   \n",
        "    loss = standard_train_step(x,y)\n",
        "    print(loss)\n",
        "\n",
        "\n"
      ],
      "execution_count": 0,
      "outputs": []
    },
    {
      "cell_type": "code",
      "metadata": {
        "id": "rxBm7uFZ0N9t",
        "colab_type": "code",
        "colab": {
          "base_uri": "https://localhost:8080/",
          "height": 74
        },
        "outputId": "21eaeb90-16b6-4b2c-e05a-a46787f8f2f7"
      },
      "source": [
        "(b_x,b_y) = get_batch(df,word2emb,500)\n",
        "b_y = tf.constant(b_y,dtype='float32') \n",
        "y_pred_standard = tf.round(tf.nn.sigmoid(sc.predict(b_x)))\n",
        "acc_standard = tf.reduce_mean(tf.cast(tf.equal(b_y, y_pred_standard), tf.float32))\n",
        "print(\"Standard CNN accuracy on (potentially biased) training set: {:.4f}\".format(acc_standard.numpy()))"
      ],
      "execution_count": 230,
      "outputs": [
        {
          "output_type": "stream",
          "text": [
            "WARNING:tensorflow:Model was constructed with shape (None, 4, 300) for input Tensor(\"dense_37_input:0\", shape=(None, 4, 300), dtype=float32), but it was called on an input with incompatible shape (None, 300).\n",
            "Standard CNN accuracy on (potentially biased) training set: 0.9860\n"
          ],
          "name": "stdout"
        }
      ]
    },
    {
      "cell_type": "code",
      "metadata": {
        "id": "NEhIYAGw0_bR",
        "colab_type": "code",
        "colab": {}
      },
      "source": [
        ""
      ],
      "execution_count": 0,
      "outputs": []
    }
  ]
}